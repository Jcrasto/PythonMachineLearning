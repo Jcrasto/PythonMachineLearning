{
 "cells": [
  {
   "cell_type": "code",
   "execution_count": 1,
   "metadata": {},
   "outputs": [],
   "source": [
    "import pandas\n",
    "from sklearn.model_selection import train_test_split\n",
    "import math\n",
    "import numpy as np\n",
    "import tensorflow as tf\n",
    "import os"
   ]
  },
  {
   "cell_type": "markdown",
   "metadata": {},
   "source": [
    "4 neurons in input layer,\n",
    "3 neurons in output layer,\n",
    "2 nodes in 1 hidden layer"
   ]
  },
  {
   "cell_type": "code",
   "execution_count": 2,
   "metadata": {},
   "outputs": [],
   "source": [
    "iris = pandas.read_csv('http://archive.ics.uci.edu/ml/machine-learning-databases/iris/iris.data',names=['sepal.length','sepal.width','petal.length','petal.width','species'])\n",
    "X = iris.loc[:, iris.columns != 'species']\n",
    "X =(X-X.min())/(X.max()-X.min())\n",
    "y = pandas.get_dummies(iris['species'])\n",
    "X_train, X_test, y_train, y_test = train_test_split(X, y, test_size=0.20, random_state=1)\n"
   ]
  },
  {
   "cell_type": "markdown",
   "metadata": {},
   "source": [
    "### Forward Propogation"
   ]
  },
  {
   "cell_type": "markdown",
   "metadata": {},
   "source": [
    "$$f(t) = \\frac{1}{1 + e^{-t}}$$\n",
    "$\\hat{y} = f(f(XW^{(1)} +  B^{(1)})W^{(2)}+B^{(2)})$"
   ]
  },
  {
   "cell_type": "code",
   "execution_count": 3,
   "metadata": {},
   "outputs": [],
   "source": [
    "batch_size =  X_train.shape[0]\n",
    "input_layer_size = X_train.shape[1]\n",
    "output_layer_size = 3\n",
    "hidden_layer_size = 2\n",
    "\n",
    "def sigmoid(z):\n",
    "    return(1/(1 + np.exp(z)))\n",
    "           \n",
    "def sigmoid_prime(z):\n",
    "    return(np.exp(-z)/(1 + np.exp(z))**2)\n",
    "\n",
    "def cost(y,y_pred):\n",
    "    return(0.5 * np.sum(np.square(np.matrix(y) - np.matrix(y_pred))))\n",
    "\n",
    "def initialize_weights(rows, columns):\n",
    "    W = []\n",
    "    for row in range(rows):\n",
    "        W.append(np.random.uniform(low = -.5, high = .5, size = columns))\n",
    "    return(np.matrix(W))\n",
    "\n",
    "W1 = initialize_weights(input_layer_size, hidden_layer_size)\n",
    "W2 = initialize_weights(hidden_layer_size, output_layer_size)\n",
    "b1 = np.random.uniform(size = hidden_layer_size) \n",
    "B1 = np.matrix([b1 for i in range(batch_size)])\n",
    "b2 = np.random.uniform(size = output_layer_size) \n",
    "B2 = np.matrix([b2 for i in range(batch_size)])\n",
    "\n",
    "def forward_prop(X, y, W1, B1, W2, B2):\n",
    "    Z2 = X.dot(W1)\n",
    "    A2 = sigmoid(Z2 + B1)\n",
    "    Z3 = A2.dot(W2)\n",
    "    y_pred = sigmoid(Z3 + B2)\n",
    "    return(y_pred)"
   ]
  },
  {
   "cell_type": "code",
   "execution_count": 4,
   "metadata": {},
   "outputs": [
    {
     "data": {
      "text/plain": [
       "41.564568717854414"
      ]
     },
     "execution_count": 4,
     "metadata": {},
     "output_type": "execute_result"
    }
   ],
   "source": [
    "y_pred = forward_prop(X_train, y_train, W1, B1, W2, B2)\n",
    "cost(y_train, y_pred)"
   ]
  },
  {
   "cell_type": "markdown",
   "metadata": {},
   "source": [
    "### Back Propogation"
   ]
  },
  {
   "cell_type": "markdown",
   "metadata": {},
   "source": [
    "Cost Function:\n",
    "$$J = 0.5 \\sum (y - \\hat{y})^2 = 0.5 \\sum (y - f(f(XW^{(1)} +  B^{(1)})W^{(2)}+B^{(2)}))^2$$\n",
    "\n",
    "Gradient of Cost Function:\n",
    "$$\\frac{\\partial J }{\\partial W^{(1)}} = X^{T}-(y - \\hat{y})^2  *f'(z^{(3)}+B^{(1)})*W^{(2)T}f'(z^{(3)})$$\n",
    "$$\\frac{\\partial J }{\\partial W^{(2)}} = a^{(2)}-(y - \\hat{y})^2  *f'(z^{(3)}+B^{(1)})$$\n",
    "$$\\frac{\\partial J }{\\partial B^{(1)}} = a^{(2)}-(y - \\hat{y})^2  *f'(z^{(3)}+B^{(1)})$$\n",
    "$$\\frac{\\partial J }{\\partial B^{(2)}} = a^{(2)}-(y - \\hat{y})^2  *f'(z^{(3)}+B^{(1)})$$"
   ]
  },
  {
   "cell_type": "markdown",
   "metadata": {},
   "source": [
    "### Gradient Descent"
   ]
  },
  {
   "cell_type": "code",
   "execution_count": 5,
   "metadata": {},
   "outputs": [
    {
     "data": {
      "text/plain": [
       "67.05698980367399"
      ]
     },
     "execution_count": 5,
     "metadata": {},
     "output_type": "execute_result"
    }
   ],
   "source": [
    "def train_model(X, y, W1, B1, W2, B2, rate, iters):\n",
    "    y = np.matrix(y)\n",
    "    for i in range(iters):\n",
    "        Z2 = X.dot(W1)\n",
    "        A2 = sigmoid(Z2 + B1)\n",
    "        Z3 = A2.dot(W2)\n",
    "        y_pred = sigmoid(Z3 + B2)\n",
    "        cost(y, y_pred)\n",
    "        delta3 = -(y - y_pred).multiply(sigmoid_prime(Z3 + B2))\n",
    "        delta2 = delta3.dot(W2.transpose()).multiply(sigmoid_prime(Z2 + B1))\n",
    "        djdb2 = np.ones(X.shape[0]).dot(delta3)\n",
    "        djdw2 = A2.transpose().dot(delta3)\n",
    "        djdb1 = np.ones(X.shape[0]).dot(delta2)\n",
    "        djdw1 = X.transpose().dot(delta2)\n",
    "        W1 = W1 - djdw1 * rate\n",
    "        B1 = B1 - djdb1.transpose() * rate\n",
    "        W2 = W2 - djdw2 * rate\n",
    "        B2 = B2 - djdb2.transpose() * rate\n",
    "    return(W1, B1, W2, B2)\n",
    "\n",
    "W1 = initialize_weights(input_layer_size, hidden_layer_size)\n",
    "W2 = initialize_weights(hidden_layer_size, output_layer_size)\n",
    "b1 = np.random.uniform(size = hidden_layer_size) \n",
    "B1 = np.matrix([b1 for i in range(batch_size)])\n",
    "b2 = np.random.uniform(size = output_layer_size) \n",
    "B2 = np.matrix([b2 for i in range(batch_size)])\n",
    "\n",
    "W1, B1, W2, B2 = train_model(X_train, y_train ,W1, B1, W2, B2, 0.01, 8)\n",
    "y_pred = forward_prop(X_train, y_train, W1, B1, W2, B2)\n",
    "cost(y_train, y_pred)"
   ]
  },
  {
   "cell_type": "markdown",
   "metadata": {},
   "source": [
    "### TensorFlow"
   ]
  }
 ],
 "metadata": {
  "kernelspec": {
   "display_name": "Python 3",
   "language": "python",
   "name": "python3"
  },
  "language_info": {
   "codemirror_mode": {
    "name": "ipython",
    "version": 3
   },
   "file_extension": ".py",
   "mimetype": "text/x-python",
   "name": "python",
   "nbconvert_exporter": "python",
   "pygments_lexer": "ipython3",
   "version": "3.7.3"
  }
 },
 "nbformat": 4,
 "nbformat_minor": 4
}
