{
 "cells": [
  {
   "cell_type": "markdown",
   "metadata": {},
   "source": [
    "https://www.tensorflow.org/tutorials/quickstart/beginner"
   ]
  },
  {
   "cell_type": "code",
   "execution_count": 22,
   "metadata": {},
   "outputs": [],
   "source": [
    "import tensorflow as tf\n",
    "import matplotlib.pyplot as plt\n",
    "import numpy as np"
   ]
  },
  {
   "cell_type": "code",
   "execution_count": 2,
   "metadata": {
    "scrolled": true
   },
   "outputs": [],
   "source": [
    "mnist = tf.keras.datasets.mnist\n",
    "(x_train, y_train), (x_test, y_test) = mnist.load_data()\n",
    "x_train, x_test = x_train / 255.0, x_test / 255.0"
   ]
  },
  {
   "cell_type": "code",
   "execution_count": 4,
   "metadata": {},
   "outputs": [],
   "source": [
    "model = tf.keras.models.Sequential([\n",
    "  tf.keras.layers.Flatten(input_shape=(28, 28)),\n",
    "  tf.keras.layers.Dense(128, activation='relu'),\n",
    "  tf.keras.layers.Dropout(0.2),\n",
    "  tf.keras.layers.Dense(10)\n",
    "])"
   ]
  },
  {
   "cell_type": "code",
   "execution_count": 5,
   "metadata": {},
   "outputs": [
    {
     "name": "stdout",
     "output_type": "stream",
     "text": [
      "WARNING:tensorflow:Layer flatten is casting an input tensor from dtype float64 to the layer's dtype of float32, which is new behavior in TensorFlow 2.  The layer has dtype float32 because it's dtype defaults to floatx.\n",
      "\n",
      "If you intended to run this layer in float32, you can safely ignore this warning. If in doubt, this warning is likely only an issue if you are porting a TensorFlow 1.X model to TensorFlow 2.\n",
      "\n",
      "To change all layers to have dtype float64 by default, call `tf.keras.backend.set_floatx('float64')`. To change just this layer, pass dtype='float64' to the layer constructor. If you are the author of this layer, you can disable autocasting by passing autocast=False to the base Layer constructor.\n",
      "\n"
     ]
    },
    {
     "data": {
      "text/plain": [
       "array([[-0.54063845,  0.33345392,  0.3249203 ,  0.1477881 , -0.19889505,\n",
       "        -0.07676797,  0.04838673, -0.2683768 , -0.07781781,  0.10948873]],\n",
       "      dtype=float32)"
      ]
     },
     "execution_count": 5,
     "metadata": {},
     "output_type": "execute_result"
    }
   ],
   "source": [
    "predictions = model(x_train[:1]).numpy()\n",
    "predictions"
   ]
  },
  {
   "cell_type": "code",
   "execution_count": 6,
   "metadata": {},
   "outputs": [
    {
     "data": {
      "text/plain": [
       "array([[0.057535  , 0.13789408, 0.13672236, 0.11452807, 0.08097471,\n",
       "        0.09149314, 0.10369135, 0.07553945, 0.09139714, 0.11022466]],\n",
       "      dtype=float32)"
      ]
     },
     "execution_count": 6,
     "metadata": {},
     "output_type": "execute_result"
    }
   ],
   "source": [
    "tf.nn.softmax(predictions).numpy()"
   ]
  },
  {
   "cell_type": "code",
   "execution_count": 7,
   "metadata": {},
   "outputs": [],
   "source": [
    "loss_fn = tf.keras.losses.SparseCategoricalCrossentropy(from_logits=True)"
   ]
  },
  {
   "cell_type": "code",
   "execution_count": 8,
   "metadata": {},
   "outputs": [
    {
     "data": {
      "text/plain": [
       "2.3914912"
      ]
     },
     "execution_count": 8,
     "metadata": {},
     "output_type": "execute_result"
    }
   ],
   "source": [
    "loss_fn(y_train[:1], predictions).numpy()"
   ]
  },
  {
   "cell_type": "code",
   "execution_count": 9,
   "metadata": {},
   "outputs": [],
   "source": [
    "model.compile(optimizer='adam',\n",
    "              loss=loss_fn,\n",
    "              metrics=['accuracy'])"
   ]
  },
  {
   "cell_type": "code",
   "execution_count": 10,
   "metadata": {},
   "outputs": [
    {
     "name": "stdout",
     "output_type": "stream",
     "text": [
      "Train on 60000 samples\n",
      "Epoch 1/5\n",
      "60000/60000 [==============================] - 4s 59us/sample - loss: 0.3007 - accuracy: 0.9115\n",
      "Epoch 2/5\n",
      "60000/60000 [==============================] - 3s 54us/sample - loss: 0.1467 - accuracy: 0.9567\n",
      "Epoch 3/5\n",
      "60000/60000 [==============================] - 3s 54us/sample - loss: 0.1098 - accuracy: 0.9666\n",
      "Epoch 4/5\n",
      "60000/60000 [==============================] - 4s 61us/sample - loss: 0.0888 - accuracy: 0.9733\n",
      "Epoch 5/5\n",
      "60000/60000 [==============================] - 3s 57us/sample - loss: 0.0748 - accuracy: 0.9760\n"
     ]
    },
    {
     "data": {
      "text/plain": [
       "<tensorflow.python.keras.callbacks.History at 0x12c29c588>"
      ]
     },
     "execution_count": 10,
     "metadata": {},
     "output_type": "execute_result"
    }
   ],
   "source": [
    "model.fit(x_train, y_train, epochs=5)"
   ]
  },
  {
   "cell_type": "code",
   "execution_count": 11,
   "metadata": {},
   "outputs": [
    {
     "name": "stdout",
     "output_type": "stream",
     "text": [
      "10000/10000 - 0s - loss: 0.0671 - accuracy: 0.9790\n"
     ]
    },
    {
     "data": {
      "text/plain": [
       "[0.06707939770829398, 0.979]"
      ]
     },
     "execution_count": 11,
     "metadata": {},
     "output_type": "execute_result"
    }
   ],
   "source": [
    "model.evaluate(x_test,  y_test, verbose=2)"
   ]
  },
  {
   "cell_type": "code",
   "execution_count": 53,
   "metadata": {},
   "outputs": [
    {
     "name": "stdout",
     "output_type": "stream",
     "text": [
      "9\n",
      "4\n"
     ]
    }
   ],
   "source": [
    "element = 115\n",
    "preds = model.predict(x_test)\n",
    "print(np.argmax(preds[element]))\n",
    "print(y_test[element])"
   ]
  },
  {
   "cell_type": "code",
   "execution_count": 54,
   "metadata": {},
   "outputs": [
    {
     "data": {
      "image/png": "[encoded data removed]",
      "text/plain": [
       "<Figure size 432x288 with 1 Axes>"
      ]
     },
     "metadata": {
      "needs_background": "light"
     },
     "output_type": "display_data"
    }
   ],
   "source": [
    "batch = x_test\n",
    "plotData = batch[element]\n",
    "plotData = plotData.reshape(28, 28)\n",
    "plt.imshow(plotData)\n",
    "plt.show()"
   ]
  },
  {
   "cell_type": "code",
   "execution_count": 38,
   "metadata": {},
   "outputs": [],
   "source": [
    "predicted_vals = []\n",
    "for pred in preds:\n",
    "    predicted_vals.append(np.argmax(pred))\n",
    "predicted_vals = np.array(predicted_vals)"
   ]
  },
  {
   "cell_type": "code",
   "execution_count": 47,
   "metadata": {},
   "outputs": [
    {
     "name": "stdout",
     "output_type": "stream",
     "text": [
      "8\n",
      "115\n",
      "149\n",
      "151\n",
      "247\n",
      "259\n",
      "321\n",
      "340\n",
      "381\n",
      "445\n",
      "447\n",
      "495\n",
      "578\n",
      "582\n",
      "684\n",
      "707\n",
      "720\n",
      "740\n",
      "844\n",
      "947\n",
      "951\n",
      "956\n",
      "965\n",
      "1014\n",
      "1039\n",
      "1112\n",
      "1181\n",
      "1182\n",
      "1226\n",
      "1232\n",
      "1242\n",
      "1247\n",
      "1260\n",
      "1290\n",
      "1319\n",
      "1325\n",
      "1326\n",
      "1328\n",
      "1393\n",
      "1500\n",
      "1522\n",
      "1530\n",
      "1549\n",
      "1553\n",
      "1609\n",
      "1671\n",
      "1681\n",
      "1717\n",
      "1737\n",
      "1754\n",
      "1790\n",
      "1800\n",
      "1901\n",
      "1952\n",
      "2016\n",
      "2024\n",
      "2035\n",
      "2040\n",
      "2043\n",
      "2044\n",
      "2053\n",
      "2070\n",
      "2098\n",
      "2109\n",
      "2118\n",
      "2130\n",
      "2135\n",
      "2174\n",
      "2182\n",
      "2185\n",
      "2272\n",
      "2293\n",
      "2329\n",
      "2369\n",
      "2387\n",
      "2422\n",
      "2454\n",
      "2488\n",
      "2598\n",
      "2654\n",
      "2877\n",
      "2896\n",
      "2915\n",
      "2921\n",
      "2927\n",
      "2930\n",
      "2939\n",
      "2953\n",
      "3005\n",
      "3060\n",
      "3073\n",
      "3117\n",
      "3503\n",
      "3520\n",
      "3558\n",
      "3559\n",
      "3565\n",
      "3597\n",
      "3718\n",
      "3727\n",
      "3751\n",
      "3776\n",
      "3780\n",
      "3796\n",
      "3808\n",
      "3838\n",
      "3853\n",
      "3906\n",
      "3941\n",
      "3943\n",
      "3946\n",
      "4000\n",
      "4065\n",
      "4078\n",
      "4152\n",
      "4156\n",
      "4176\n",
      "4199\n",
      "4212\n",
      "4224\n",
      "4248\n",
      "4289\n",
      "4294\n",
      "4360\n",
      "4435\n",
      "4443\n",
      "4497\n",
      "4536\n",
      "4547\n",
      "4567\n",
      "4571\n",
      "4601\n",
      "4635\n",
      "4731\n",
      "4761\n",
      "4807\n",
      "4814\n",
      "4823\n",
      "4860\n",
      "4880\n",
      "4956\n",
      "4966\n",
      "5046\n",
      "5331\n",
      "5457\n",
      "5600\n",
      "5623\n",
      "5642\n",
      "5734\n",
      "5749\n",
      "5887\n",
      "5926\n",
      "5936\n",
      "5937\n",
      "5955\n",
      "5973\n",
      "6011\n",
      "6059\n",
      "6166\n",
      "6505\n",
      "6555\n",
      "6571\n",
      "6572\n",
      "6574\n",
      "6597\n",
      "6598\n",
      "6625\n",
      "6651\n",
      "6755\n",
      "6783\n",
      "6817\n",
      "6847\n",
      "7216\n",
      "7434\n",
      "7732\n",
      "7821\n",
      "7886\n",
      "7921\n",
      "8020\n",
      "8062\n",
      "8094\n",
      "8246\n",
      "8311\n",
      "8325\n",
      "8362\n",
      "8520\n",
      "8522\n",
      "8527\n",
      "9009\n",
      "9015\n",
      "9019\n",
      "9024\n",
      "9071\n",
      "9422\n",
      "9587\n",
      "9634\n",
      "9664\n",
      "9679\n",
      "9700\n",
      "9729\n",
      "9745\n",
      "9749\n",
      "9755\n",
      "9768\n",
      "9770\n",
      "9792\n",
      "9808\n",
      "9839\n",
      "9944\n",
      "9982\n"
     ]
    }
   ],
   "source": [
    "eval_preds = y_test == predicted_vals\n",
    "for i in range(len(eval_preds)):\n",
    "    if eval_preds[i] != True:\n",
    "        print(i)"
   ]
  },
  {
   "cell_type": "code",
   "execution_count": null,
   "metadata": {},
   "outputs": [],
   "source": []
  },
  {
   "cell_type": "code",
   "execution_count": 12,
   "metadata": {},
   "outputs": [],
   "source": [
    "probability_model = tf.keras.Sequential([\n",
    "  model,\n",
    "  tf.keras.layers.Softmax()\n",
    "])"
   ]
  },
  {
   "cell_type": "code",
   "execution_count": 13,
   "metadata": {},
   "outputs": [
    {
     "data": {
      "text/plain": [
       "<tf.Tensor: shape=(5, 10), dtype=float32, numpy=\n",
       "array([[1.5319978e-07, 1.4137503e-08, 2.5302265e-04, 4.4818703e-04,\n",
       "        2.1825011e-11, 6.2372567e-07, 2.3543545e-13, 9.9929404e-01,\n",
       "        1.6236490e-07, 3.9162910e-06],\n",
       "       [1.1557072e-08, 1.6341430e-06, 9.9977332e-01, 2.1024476e-04,\n",
       "        4.3787322e-15, 4.7329168e-06, 1.9414351e-06, 3.4656235e-13,\n",
       "        8.2549986e-06, 7.9936500e-12],\n",
       "       [5.9445813e-07, 9.9876910e-01, 1.7667467e-04, 1.4393929e-05,\n",
       "        9.8171449e-06, 4.8822444e-06, 9.4129800e-06, 9.3469012e-04,\n",
       "        7.9828773e-05, 7.0848449e-07],\n",
       "       [9.9994254e-01, 2.9749199e-08, 1.2103071e-05, 1.1102992e-07,\n",
       "        3.3246264e-10, 3.9529896e-06, 3.9140235e-05, 4.1652662e-08,\n",
       "        4.6092787e-09, 1.9991191e-06],\n",
       "       [2.0304971e-07, 1.1285057e-09, 7.2774134e-07, 3.9631775e-08,\n",
       "        9.9811327e-01, 1.0595721e-07, 4.2594360e-07, 5.4580636e-05,\n",
       "        6.3118461e-07, 1.8299004e-03]], dtype=float32)>"
      ]
     },
     "execution_count": 13,
     "metadata": {},
     "output_type": "execute_result"
    }
   ],
   "source": [
    "probability_model(x_test[:5])"
   ]
  }
 ],
 "metadata": {
  "kernelspec": {
   "display_name": "Python 3",
   "language": "python",
   "name": "python3"
  },
  "language_info": {
   "codemirror_mode": {
    "name": "ipython",
    "version": 3
   },
   "file_extension": ".py",
   "mimetype": "text/x-python",
   "name": "python",
   "nbconvert_exporter": "python",
   "pygments_lexer": "ipython3",
   "version": "3.7.3"
  }
 },
 "nbformat": 4,
 "nbformat_minor": 4
}
