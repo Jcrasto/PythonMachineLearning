{
 "cells": [
  {
   "cell_type": "code",
   "execution_count": 4,
   "metadata": {},
   "outputs": [],
   "source": [
    "import pandas\n",
    "import xgboost as xgb\n",
    "from sklearn.model_selection import train_test_split\n",
    "from sklearn.decomposition import PCA"
   ]
  },
  {
   "cell_type": "code",
   "execution_count": 2,
   "metadata": {},
   "outputs": [],
   "source": [
    "col_names = ['Alcohol','Malic acid','Ash','Alcalinity_of_ash','Magnesium','Total_phenols','Flavanoids','Nonflavanoid_phenols','Proanthocyanins','Color_intensity','Hue','OD280/OD315_of_diluted_wines','Proline']\n",
    "\n",
    "wine = pandas.read_csv(\n",
    "    \"https://archive.ics.uci.edu/ml/machine-learning-databases/wine/wine.data\",\n",
    "    header=None,\n",
    "    names=col_names,\n",
    "    index_col=False,\n",
    ")\n",
    "X = wine.loc[:, wine.columns != 'Alcohol']\n",
    "y = wine['Alcohol']\n",
    "train_X, test_X, train_y, test_y = train_test_split(X, y)"
   ]
  },
  {
   "cell_type": "code",
   "execution_count": 3,
   "metadata": {},
   "outputs": [
    {
     "data": {
      "text/plain": [
       "0.9333333333333333"
      ]
     },
     "execution_count": 3,
     "metadata": {},
     "output_type": "execute_result"
    }
   ],
   "source": [
    "xg_class = xgb.XGBClassifier(objective ='reg:linear', colsample_bytree = 0.3, learning_rate = 0.1,\n",
    "                max_depth = 5, alpha = 10, n_estimators = 3)\n",
    "xg_class.fit(train_X,train_y)\n",
    "xg_class.score(test_X,test_y)"
   ]
  },
  {
   "cell_type": "code",
   "execution_count": 6,
   "metadata": {},
   "outputs": [
    {
     "data": {
      "text/html": [
       "<div>\n",
       "<style scoped>\n",
       "    .dataframe tbody tr th:only-of-type {\n",
       "        vertical-align: middle;\n",
       "    }\n",
       "\n",
       "    .dataframe tbody tr th {\n",
       "        vertical-align: top;\n",
       "    }\n",
       "\n",
       "    .dataframe thead th {\n",
       "        text-align: right;\n",
       "    }\n",
       "</style>\n",
       "<table border=\"1\" class=\"dataframe\">\n",
       "  <thead>\n",
       "    <tr style=\"text-align: right;\">\n",
       "      <th></th>\n",
       "      <th>0</th>\n",
       "      <th>1</th>\n",
       "      <th>2</th>\n",
       "      <th>3</th>\n",
       "      <th>4</th>\n",
       "      <th>5</th>\n",
       "      <th>6</th>\n",
       "      <th>7</th>\n",
       "      <th>8</th>\n",
       "      <th>9</th>\n",
       "      <th>10</th>\n",
       "      <th>11</th>\n",
       "      <th>12</th>\n",
       "    </tr>\n",
       "  </thead>\n",
       "  <tbody>\n",
       "    <tr>\n",
       "      <th>0</th>\n",
       "      <td>-0.011508</td>\n",
       "      <td>0.015677</td>\n",
       "      <td>-0.004353</td>\n",
       "      <td>0.005479</td>\n",
       "      <td>-0.020824</td>\n",
       "      <td>0.998822</td>\n",
       "      <td>0.009525</td>\n",
       "      <td>0.013882</td>\n",
       "      <td>-0.002247</td>\n",
       "      <td>0.009550</td>\n",
       "      <td>0.033198</td>\n",
       "      <td>0.000883</td>\n",
       "      <td>0.003327</td>\n",
       "    </tr>\n",
       "    <tr>\n",
       "      <th>1</th>\n",
       "      <td>0.133226</td>\n",
       "      <td>-0.064370</td>\n",
       "      <td>0.116292</td>\n",
       "      <td>0.036577</td>\n",
       "      <td>0.963219</td>\n",
       "      <td>0.023457</td>\n",
       "      <td>-0.069890</td>\n",
       "      <td>-0.125390</td>\n",
       "      <td>0.014088</td>\n",
       "      <td>-0.039481</td>\n",
       "      <td>0.077413</td>\n",
       "      <td>-0.023783</td>\n",
       "      <td>-0.077344</td>\n",
       "    </tr>\n",
       "    <tr>\n",
       "      <th>2</th>\n",
       "      <td>0.105462</td>\n",
       "      <td>0.184347</td>\n",
       "      <td>0.150841</td>\n",
       "      <td>0.013717</td>\n",
       "      <td>-0.127944</td>\n",
       "      <td>-0.031984</td>\n",
       "      <td>-0.040487</td>\n",
       "      <td>-0.115195</td>\n",
       "      <td>0.010261</td>\n",
       "      <td>-0.030557</td>\n",
       "      <td>0.934664</td>\n",
       "      <td>-0.054228</td>\n",
       "      <td>-0.148578</td>\n",
       "    </tr>\n",
       "  </tbody>\n",
       "</table>\n",
       "</div>"
      ],
      "text/plain": [
       "          0         1         2         3         4         5         6  \\\n",
       "0 -0.011508  0.015677 -0.004353  0.005479 -0.020824  0.998822  0.009525   \n",
       "1  0.133226 -0.064370  0.116292  0.036577  0.963219  0.023457 -0.069890   \n",
       "2  0.105462  0.184347  0.150841  0.013717 -0.127944 -0.031984 -0.040487   \n",
       "\n",
       "          7         8         9        10        11        12  \n",
       "0  0.013882 -0.002247  0.009550  0.033198  0.000883  0.003327  \n",
       "1 -0.125390  0.014088 -0.039481  0.077413 -0.023783 -0.077344  \n",
       "2 -0.115195  0.010261 -0.030557  0.934664 -0.054228 -0.148578  "
      ]
     },
     "execution_count": 6,
     "metadata": {},
     "output_type": "execute_result"
    }
   ],
   "source": [
    "pca = PCA(n_components=3)\n",
    "pca.fit(wine)\n",
    "pandas.DataFrame(pca.components_)"
   ]
  },
  {
   "cell_type": "code",
   "execution_count": null,
   "metadata": {},
   "outputs": [],
   "source": []
  }
 ],
 "metadata": {
  "kernelspec": {
   "display_name": "Python 3",
   "language": "python",
   "name": "python3"
  },
  "language_info": {
   "codemirror_mode": {
    "name": "ipython",
    "version": 3
   },
   "file_extension": ".py",
   "mimetype": "text/x-python",
   "name": "python",
   "nbconvert_exporter": "python",
   "pygments_lexer": "ipython3",
   "version": "3.7.3"
  }
 },
 "nbformat": 4,
 "nbformat_minor": 4
}
