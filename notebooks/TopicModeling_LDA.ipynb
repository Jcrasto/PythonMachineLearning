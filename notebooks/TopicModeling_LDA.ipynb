{
 "cells": [
  {
   "cell_type": "code",
   "execution_count": 1,
   "metadata": {},
   "outputs": [],
   "source": [
    "import time\n",
    "import urllib.request\n",
    "import pandas\n",
    "from sklearn.decomposition import LatentDirichletAllocation, NMF\n",
    "from sklearn.feature_extraction.text import TfidfVectorizer, CountVectorizer\n",
    "from sklearn.datasets import fetch_20newsgroups"
   ]
  },
  {
   "cell_type": "markdown",
   "metadata": {},
   "source": [
    "https://medium.com/mlreview/topic-modeling-with-scikit-learn-e80d33668730"
   ]
  },
  {
   "cell_type": "code",
   "execution_count": 21,
   "metadata": {},
   "outputs": [],
   "source": [
    "n_comp = 20\n",
    "no_top_words = 11\n",
    "def display_topics(model, feature_names, no_top_words):\n",
    "    for topic_idx, topic in enumerate(model.components_):\n",
    "        print(\"Topic %d:\" % (topic_idx))\n",
    "        print(\" \".join([feature_names[i] for i in topic.argsort()[:-no_top_words - 1:-1]]))"
   ]
  },
  {
   "cell_type": "code",
   "execution_count": 22,
   "metadata": {},
   "outputs": [],
   "source": [
    "text = urllib.request.urlopen(\"https://www.gutenberg.org/files/215/215-0.txt\")\n",
    "linelist = []\n",
    "for line in text:\n",
    "    txt = line.rstrip().decode(\"utf-8\")\n",
    "    if txt:\n",
    "        linelist.append(txt)"
   ]
  },
  {
   "cell_type": "code",
   "execution_count": 23,
   "metadata": {},
   "outputs": [],
   "source": [
    "cv=CountVectorizer(stop_words='english')\n",
    "tf = cv.fit_transform(linelist)\n",
    "tf_feature_names = cv.get_feature_names()"
   ]
  },
  {
   "cell_type": "code",
   "execution_count": 24,
   "metadata": {},
   "outputs": [
    {
     "name": "stdout",
     "output_type": "stream",
     "text": [
      "Topic 0:\n",
      "come blood shot marked money raging fallen cover credit man got\n",
      "Topic 1:\n",
      "valley land hunting donations timber sun load electronic requirements works trademark\n",
      "Topic 2:\n",
      "man buck days going red cunning nights ate sweater close longer\n",
      "Topic 3:\n",
      "did end know water took good little thing felt charge judge\n",
      "Topic 4:\n",
      "protected copyright editions patience steal gray lying coat primitive dim roar\n",
      "Topic 5:\n",
      "terms half breed agreement pounds sir refund additional large ration warning\n",
      "Topic 6:\n",
      "club law nose wild man pain brother struck slowly fang save\n",
      "Topic 7:\n",
      "living comes effort alive mystery active links yellow fiercely lie date\n",
      "Topic 8:\n",
      "gutenberg project tm foundation works literary archive donations fell electronic license\n",
      "Topic 9:\n",
      "dog including open till ice softly eh say edge silence water\n",
      "Topic 10:\n",
      "dogs life old forth place new knew seen hair snow fear\n",
      "Topic 11:\n",
      "tax young required gold blows looking exempt struggling pglaf rain bulls\n",
      "Topic 12:\n",
      "work françois forest sled laws killed mates country pole distributed fact\n",
      "Topic 13:\n",
      "feet spitz air sprang thornton teeth throat leap legs white hans\n",
      "Topic 14:\n",
      "way face received shoulder rest heels start learned follow fair written\n",
      "Topic 15:\n",
      "men away states wolf came org united www body use world\n",
      "Topic 16:\n",
      "things hands heart cold far particular thousand paragraph ached content shadows\n",
      "Topic 17:\n",
      "eyes hand make donate movement strength wounded change lay muzzle flying\n",
      "Topic 18:\n",
      "head night great said times day right wide trees hal caught\n",
      "Topic 19:\n",
      "buck thornton time day long camp went like trail sled half\n"
     ]
    }
   ],
   "source": [
    "lda = LatentDirichletAllocation(n_components=n_comp, max_iter=5, learning_method='online', learning_offset=50.,random_state=0).fit(tf)\n",
    "display_topics(lda, tf_feature_names, no_top_words)"
   ]
  },
  {
   "cell_type": "code",
   "execution_count": 25,
   "metadata": {},
   "outputs": [],
   "source": [
    "no_features = 1000\n",
    "tfidf_vectorizer = TfidfVectorizer(max_df=0.95, min_df=2, max_features=no_features, stop_words='english')\n",
    "tfidf = tfidf_vectorizer.fit_transform(linelist)\n",
    "tfidf_feature_names = tfidf_vectorizer.get_feature_names()"
   ]
  },
  {
   "cell_type": "code",
   "execution_count": 27,
   "metadata": {},
   "outputs": [
    {
     "name": "stdout",
     "output_type": "stream",
     "text": [
      "Topic 0:\n",
      "buck stood like love saw mates head good backward trouble dave\n",
      "Topic 1:\n",
      "gutenberg project tm works electronic license literary foundation trademark archive access\n",
      "Topic 2:\n",
      "dogs team outside way harness sled tired perrault fourteen burst mercedes\n",
      "Topic 3:\n",
      "thornton john head said shook feet sat camp looked commanded seized\n",
      "Topic 4:\n",
      "man red sweater hairy hurled hand throat love brought saw sled\n",
      "Topic 5:\n",
      "did know like knew share eyes kindly reason till skeet felt\n",
      "Topic 6:\n",
      "life new saved mates passed ecstasy like forest song fall ice\n",
      "Topic 7:\n",
      "men carried sought gone outfit need kept woman like second rushed\n",
      "Topic 8:\n",
      "day camp night like end days packed sun miserable ere run\n",
      "Topic 9:\n",
      "dog driver food husky house eh old lead knew bad heart\n",
      "Topic 10:\n",
      "time good away tried old dropped broke days water southland appeared\n",
      "Topic 11:\n",
      "came place forth old standing forest effort leadership faint arose sled\n",
      "Topic 12:\n",
      "françois perrault till called dat lash strange threw watch canadian sled\n",
      "Topic 13:\n",
      "work electronic associated copy copyright distribute tm days individual terms little\n",
      "Topic 14:\n",
      "long howl street wolf judge drawn howled lean white called traces\n",
      "Topic 15:\n",
      "half breed scotch tent hour snow away night friendly face slowly\n",
      "Topic 16:\n",
      "leks sol dave old change position traces brought sled called stood\n",
      "Topic 17:\n",
      "went circle way odds sleep mercedes cabin shoulder voice wild away\n",
      "Topic 18:\n",
      "great love felt head come terrible pride bull rest fight breast\n",
      "Topic 19:\n",
      "spitz left shoulder leader sprang teeth heem joe dat likewise nose\n"
     ]
    }
   ],
   "source": [
    "nmf = NMF(n_components= n_comp, random_state=1, alpha=.1, l1_ratio=.5, init='nndsvd').fit(tfidf)\n",
    "display_topics(nmf, tfidf_feature_names, no_top_words)"
   ]
  }
 ],
 "metadata": {
  "kernelspec": {
   "display_name": "Python 3",
   "language": "python",
   "name": "python3"
  },
  "language_info": {
   "codemirror_mode": {
    "name": "ipython",
    "version": 3
   },
   "file_extension": ".py",
   "mimetype": "text/x-python",
   "name": "python",
   "nbconvert_exporter": "python",
   "pygments_lexer": "ipython3",
   "version": "3.7.3"
  }
 },
 "nbformat": 4,
 "nbformat_minor": 4
}
