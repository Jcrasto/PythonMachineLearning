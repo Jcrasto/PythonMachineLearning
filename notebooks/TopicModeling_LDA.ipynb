{
 "cells": [
  {
   "cell_type": "code",
   "execution_count": 2,
   "metadata": {},
   "outputs": [],
   "source": [
    "import time\n",
    "import urllib.request\n",
    "import pandas\n",
    "from sklearn.decomposition import LatentDirichletAllocation, NMF\n",
    "from sklearn.feature_extraction.text import TfidfVectorizer, CountVectorizer\n",
    "from sklearn.datasets import fetch_20newsgroups"
   ]
  },
  {
   "cell_type": "markdown",
   "metadata": {},
   "source": [
    "https://medium.com/mlreview/topic-modeling-with-scikit-learn-e80d33668730"
   ]
  },
  {
   "cell_type": "markdown",
   "metadata": {},
   "source": [
    "# Setup"
   ]
  },
  {
   "cell_type": "code",
   "execution_count": 3,
   "metadata": {},
   "outputs": [],
   "source": [
    "n_comp = 10\n",
    "no_top_words = 10\n",
    "def display_topics(model, feature_names, no_top_words):\n",
    "    for topic_idx, topic in enumerate(model.components_):\n",
    "        print(\"Topic %d:\" % (topic_idx))\n",
    "        print(\" \".join([feature_names[i] for i in topic.argsort()[:-no_top_words - 1:-1]]))"
   ]
  },
  {
   "cell_type": "code",
   "execution_count": 4,
   "metadata": {},
   "outputs": [],
   "source": [
    "text = urllib.request.urlopen(\"https://www.gutenberg.org/files/215/215-0.txt\")\n",
    "linelist = []\n",
    "for line in text:\n",
    "    txt = line.rstrip().decode(\"utf-8\")\n",
    "    if len(txt.split()) > 3:\n",
    "        linelist.append(txt)"
   ]
  },
  {
   "cell_type": "markdown",
   "metadata": {},
   "source": [
    "# Text Feature Engineering"
   ]
  },
  {
   "cell_type": "markdown",
   "metadata": {},
   "source": [
    "### Count Vectorizer"
   ]
  },
  {
   "cell_type": "code",
   "execution_count": 5,
   "metadata": {},
   "outputs": [],
   "source": [
    "cv=CountVectorizer(stop_words='english')\n",
    "tf = cv.fit_transform(linelist)\n",
    "tf_feature_names = cv.get_feature_names()"
   ]
  },
  {
   "cell_type": "code",
   "execution_count": 6,
   "metadata": {},
   "outputs": [
    {
     "name": "stdout",
     "output_type": "stream",
     "text": [
      "Topic 0:\n",
      "men good come frozen small comes pounds say carried sound\n",
      "Topic 1:\n",
      "water nose ground blood wild trademark salt foundation won man\n",
      "Topic 2:\n",
      "man life eyes dog said love foundation new literary archive\n",
      "Topic 3:\n",
      "work things forest hand place paragraph set sled received charge\n",
      "Topic 4:\n",
      "gutenberg project tm did thornton knew electronic john club work\n",
      "Topic 5:\n",
      "night half snow morning head times brought thornton man sleep\n",
      "Topic 6:\n",
      "buck dogs day time came like long sled till days\n",
      "Topic 7:\n",
      "spitz buck way ran including sprang went sun pain valley\n",
      "Topic 8:\n",
      "donations great states terms united thornton information agreement copy sir\n",
      "Topic 9:\n",
      "break grew bristling chest requirements head heem edge ice timber\n"
     ]
    }
   ],
   "source": [
    "lda = LatentDirichletAllocation(n_components=n_comp, max_iter=5, learning_method='online', learning_offset=50.,random_state=0).fit(tf)\n",
    "display_topics(lda, tf_feature_names, no_top_words)"
   ]
  },
  {
   "cell_type": "code",
   "execution_count": 7,
   "metadata": {},
   "outputs": [
    {
     "name": "stdout",
     "output_type": "stream",
     "text": [
      "Topic 0:\n",
      "buck françois like saw head dat half love stood dave\n",
      "Topic 1:\n",
      "gutenberg project tm work electronic works license literary foundation access\n",
      "Topic 2:\n",
      "dogs sled team way wanted outside half mercedes perrault fourteen\n",
      "Topic 3:\n",
      "thornton john head camp feet long great hand shook face\n",
      "Topic 4:\n",
      "man red sweater hairy saw sled club life throat hurled\n",
      "Topic 5:\n",
      "did know work like long till read went newspapers things\n",
      "Topic 6:\n",
      "time spitz away days went long good life half old\n",
      "Topic 7:\n",
      "dog sol leks sled knew françois driver old half perrault\n",
      "Topic 8:\n",
      "day camp days night like end long trail miles sun\n",
      "Topic 9:\n",
      "men came françois saw kept woman charles sled world camp\n"
     ]
    }
   ],
   "source": [
    "nmf = NMF(n_components= n_comp, random_state=1, alpha=.1, l1_ratio=.5, init='nndsvd').fit(tf)\n",
    "display_topics(nmf, tf_feature_names, no_top_words)"
   ]
  },
  {
   "cell_type": "markdown",
   "metadata": {},
   "source": [
    "### TF-IDF"
   ]
  },
  {
   "cell_type": "code",
   "execution_count": 10,
   "metadata": {},
   "outputs": [],
   "source": [
    "no_features = 1000\n",
    "tfidf_vectorizer = TfidfVectorizer(max_df=0.95, min_df=2, max_features=no_features, stop_words='english')\n",
    "tfidf = tfidf_vectorizer.fit_transform(linelist)\n",
    "tfidf_feature_names = tfidf_vectorizer.get_feature_names()"
   ]
  },
  {
   "cell_type": "code",
   "execution_count": 11,
   "metadata": {},
   "outputs": [
    {
     "name": "stdout",
     "output_type": "stream",
     "text": [
      "Topic 0:\n",
      "life did men came know buck laws world death lay\n",
      "Topic 1:\n",
      "great camp hands valley sleep hunting white effort requirements hans\n",
      "Topic 2:\n",
      "dog states buck time strength united dogs left wild driver\n",
      "Topic 3:\n",
      "buck françois went body ice team mates way bank rest\n",
      "Topic 4:\n",
      "end matter nose come blood air ground land timber ebooks\n",
      "Topic 5:\n",
      "project gutenberg tm head work foundation works electronic long agreement\n",
      "Topic 6:\n",
      "thornton john till hal pete state sounding said frozen patience\n",
      "Topic 7:\n",
      "man feet things love new eyes dogs legs strange heard\n",
      "Topic 8:\n",
      "half buck spitz like hand old sol leks stood face\n",
      "Topic 9:\n",
      "day days night sled trail forest forth perrault buck morning\n"
     ]
    }
   ],
   "source": [
    "lda = LatentDirichletAllocation(n_components=n_comp, max_iter=5, learning_method='online', learning_offset=50.,random_state=0).fit(tfidf)\n",
    "display_topics(lda, tfidf_feature_names, no_top_words)"
   ]
  },
  {
   "cell_type": "code",
   "execution_count": 12,
   "metadata": {},
   "outputs": [
    {
     "name": "stdout",
     "output_type": "stream",
     "text": [
      "Topic 0:\n",
      "buck françois went like half love mates stood head saw\n",
      "Topic 1:\n",
      "gutenberg project tm work electronic works license literary foundation trademark\n",
      "Topic 2:\n",
      "dogs team outside way sled harness perrault tired mercedes fourteen\n",
      "Topic 3:\n",
      "man red sweater hairy hand hurled love brought saw throat\n",
      "Topic 4:\n",
      "did know like day knew long share went eyes till\n",
      "Topic 5:\n",
      "thornton john head shook great feet sat camp long hal\n",
      "Topic 6:\n",
      "life new saved like mates passed ecstasy forest song half\n",
      "Topic 7:\n",
      "men came gone carried sought old françois kept outfit need\n",
      "Topic 8:\n",
      "time spitz good tried away days left old broke dropped\n",
      "Topic 9:\n",
      "dog driver food work husky old eh house lead knew\n"
     ]
    }
   ],
   "source": [
    "nmf = NMF(n_components= n_comp, random_state=1, alpha=.1, l1_ratio=.5, init='nndsvd').fit(tfidf)\n",
    "display_topics(nmf, tfidf_feature_names, no_top_words)"
   ]
  },
  {
   "cell_type": "markdown",
   "metadata": {},
   "source": [
    "### Natural Language Toolkit"
   ]
  },
  {
   "cell_type": "code",
   "execution_count": 10,
   "metadata": {},
   "outputs": [],
   "source": [
    "import nltk\n",
    "from nltk.corpus import stopwords"
   ]
  },
  {
   "cell_type": "code",
   "execution_count": 19,
   "metadata": {},
   "outputs": [
    {
     "data": {
      "image/png": "[encoded data removed]",
      "text/plain": [
       "<Figure size 432x288 with 1 Axes>"
      ]
     },
     "metadata": {
      "needs_background": "light"
     },
     "output_type": "display_data"
    },
    {
     "data": {
      "text/plain": [
       "<matplotlib.axes._subplots.AxesSubplot at 0x1217a4a90>"
      ]
     },
     "execution_count": 19,
     "metadata": {},
     "output_type": "execute_result"
    }
   ],
   "source": [
    "tokens = []\n",
    "for line in linelist:\n",
    "    tokens.extend(line.split())\n",
    "sr= stopwords.words('english')\n",
    "clean_tokens = tokens[:]\n",
    "for token in tokens:\n",
    "    if token in stopwords.words('english'):\n",
    "        clean_tokens.remove(token)\n",
    "freq = nltk.FreqDist(clean_tokens)\n",
    "freq.plot(20, cumulative=False)"
   ]
  }
 ],
 "metadata": {
  "kernelspec": {
   "display_name": "Python 3",
   "language": "python",
   "name": "python3"
  },
  "language_info": {
   "codemirror_mode": {
    "name": "ipython",
    "version": 3
   },
   "file_extension": ".py",
   "mimetype": "text/x-python",
   "name": "python",
   "nbconvert_exporter": "python",
   "pygments_lexer": "ipython3",
   "version": "3.7.3"
  }
 },
 "nbformat": 4,
 "nbformat_minor": 4
}
